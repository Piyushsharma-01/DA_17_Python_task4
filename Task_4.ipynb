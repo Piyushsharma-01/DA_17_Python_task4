{
 "cells": [
  {
   "cell_type": "markdown",
   "id": "9079c302",
   "metadata": {},
   "source": [
    "# *Python Task-4*\n",
    "\n",
    "### *Class Method Examples*"
   ]
  },
  {
   "cell_type": "code",
   "execution_count": 11,
   "id": "4835c046",
   "metadata": {},
   "outputs": [
    {
     "data": {
      "text/plain": [
       "13"
      ]
     },
     "execution_count": 11,
     "metadata": {},
     "output_type": "execute_result"
    }
   ],
   "source": [
    "# Class Method For Addition \n",
    "\n",
    "class mathOperationAddtion2:\n",
    "    a=0\n",
    "    b=0\n",
    "    add=''\n",
    "\n",
    "    def __init__(self,vala,valb,add):\n",
    "        self.a=vala\n",
    "        self.b=valb\n",
    "        self.add=add\n",
    "\n",
    "    def addValue(self):\n",
    "        return self.a+self.b\n",
    "\n",
    "\n",
    "add=mathOperationAddtion2(10,3,'add')\n",
    "add.addValue() "
   ]
  },
  {
   "cell_type": "code",
   "execution_count": 10,
   "id": "b23755cd",
   "metadata": {},
   "outputs": [
    {
     "data": {
      "text/plain": [
       "60"
      ]
     },
     "execution_count": 10,
     "metadata": {},
     "output_type": "execute_result"
    }
   ],
   "source": [
    "# Class Method For Addition (Taking input from User) \n",
    "\n",
    "class mathAdditonOperation: \n",
    "    a=0\n",
    "    b=0\n",
    "    add=''\n",
    "\n",
    "    def __init__(self,Val_a,Val_b,Val_c,addVal):\n",
    "        self.a = Val_a\n",
    "        self.b = Val_b\n",
    "        self.c = Val_c\n",
    "        self.add = addVal\n",
    "\n",
    "    def addValue(self):\n",
    "        return self.a + self.b + self.c\n",
    "\n",
    "Val_a=int(input(\"Enter Value for a : \")) # taking Val_a = 10\n",
    "Val_b=int(input(\"Enter Value for b : \")) # taking Val_b = 20\n",
    "Val_c=int(input(\"Enter Value for c : \")) # taking Val_b = 30\n",
    "Add=mathAdditonOperation(Val_a,Val_b,Val_c,'add')\n",
    "\n",
    "Add.addValue()"
   ]
  },
  {
   "cell_type": "code",
   "execution_count": 14,
   "id": "86e5dadf",
   "metadata": {},
   "outputs": [
    {
     "data": {
      "text/plain": [
       "20"
      ]
     },
     "execution_count": 14,
     "metadata": {},
     "output_type": "execute_result"
    }
   ],
   "source": [
    "# Class Method For substraction\n",
    "\n",
    "class methodSubstractionOperation :\n",
    "    a=0\n",
    "    b=0\n",
    "    sub=''\n",
    "\n",
    "    def __init__(self,a_val,b_val,subVal):\n",
    "        self.a = a_val\n",
    "        self.b = b_val\n",
    "        self.sub = subVal\n",
    "\n",
    "    def subValue(self):\n",
    "        return self.a - self.b\n",
    "    \n",
    "sub=methodSubstractionOperation(50,30,'sub')\n",
    "sub.subValue()"
   ]
  },
  {
   "cell_type": "code",
   "execution_count": 17,
   "id": "93d29144",
   "metadata": {},
   "outputs": [
    {
     "data": {
      "text/plain": [
       "20"
      ]
     },
     "execution_count": 17,
     "metadata": {},
     "output_type": "execute_result"
    }
   ],
   "source": [
    "# Class Method For Substraction (Taking input from user)\n",
    "\n",
    "class methodSubstractionOperation2:\n",
    "    a=0\n",
    "    b=0\n",
    "    c=0\n",
    "    sub=''\n",
    "\n",
    "    def __init__(self,val_a,val_b,val_c,subVal):\n",
    "        self.a = val_a\n",
    "        self.b = val_b\n",
    "        self.c = val_c\n",
    "        self.sub = subVal\n",
    "\n",
    "    def subValue(self):\n",
    "        return self.a - self.b - self.c\n",
    "\n",
    "val_a=int(input(\"Enter value for a : \"))\n",
    "val_b=int(input(\"Enter value for b : \"))\n",
    "val_c=int(input(\"Enter value for c : \"))\n",
    "sub=methodSubstractionOperation2(val_a,val_b,val_c,'sub')\n",
    "\n",
    "sub.subValue()"
   ]
  },
  {
   "cell_type": "code",
   "execution_count": 18,
   "id": "9854c696",
   "metadata": {},
   "outputs": [
    {
     "data": {
      "text/plain": [
       "6000"
      ]
     },
     "execution_count": 18,
     "metadata": {},
     "output_type": "execute_result"
    }
   ],
   "source": [
    "# Class Method For Multiplication\n",
    "\n",
    "class methodMultiplicationOperation:\n",
    "    a=0\n",
    "    b=0\n",
    "    c=0\n",
    "    mult= ''\n",
    "\n",
    "    def __init__(self,val_a,val_b,val_c,multVal):\n",
    "        self.a = val_a\n",
    "        self.b = val_b\n",
    "        self.c = val_c\n",
    "        self.mult = multVal\n",
    "\n",
    "    def multValue(self):\n",
    "        return self.a * self.b * self.c \n",
    "\n",
    "mult=methodMultiplicationOperation(10,20,30,'multValue')\n",
    "mult.multValue()"
   ]
  },
  {
   "cell_type": "code",
   "execution_count": 19,
   "id": "0dda71d6",
   "metadata": {},
   "outputs": [
    {
     "data": {
      "text/plain": [
       "200"
      ]
     },
     "execution_count": 19,
     "metadata": {},
     "output_type": "execute_result"
    }
   ],
   "source": [
    "# Class Methof for Multiplication ( taking input from user)\n",
    "\n",
    "class  methodMultiplicationOperation2:\n",
    "    a=0\n",
    "    b=0\n",
    "    mult=''\n",
    "\n",
    "    def __init__(self,aVal,bVal,multVal):\n",
    "        self.a = aVal\n",
    "        self.b = bVal\n",
    "        self.mult = multVal\n",
    "\n",
    "    def multValue(self):\n",
    "        return self.a * self.b\n",
    "    \n",
    "aVal=int(input(\"Enter value for a : \"))\n",
    "bVal=int(input(\"Enter value for b : \"))\n",
    "mult=methodMultiplicationOperation2(aVal,bVal,'multVal')\n",
    "\n",
    "mult.multValue()"
   ]
  },
  {
   "cell_type": "code",
   "execution_count": 21,
   "id": "c12a7baa",
   "metadata": {},
   "outputs": [
    {
     "data": {
      "text/plain": [
       "5.0"
      ]
     },
     "execution_count": 21,
     "metadata": {},
     "output_type": "execute_result"
    }
   ],
   "source": [
    "# Class method for Division\n",
    "\n",
    "class methodDivisionOperation:\n",
    "    a=0\n",
    "    b=0\n",
    "    div=''\n",
    "\n",
    "    def __init__(self,val_a,val_b,divVal):\n",
    "        self.a = val_a\n",
    "        self.b = val_b\n",
    "        self.div = divVal\n",
    "    \n",
    "    def divValue(self):\n",
    "        return self.a / self.b\n",
    "\n",
    "div=methodDivisionOperation(20,4,'divVal')\n",
    "\n",
    "div.divValue()"
   ]
  },
  {
   "cell_type": "code",
   "execution_count": 24,
   "id": "b3a0079d",
   "metadata": {},
   "outputs": [
    {
     "data": {
      "text/plain": [
       "11.636363636363637"
      ]
     },
     "execution_count": 24,
     "metadata": {},
     "output_type": "execute_result"
    }
   ],
   "source": [
    "# Class Method for division (taking input from user)\n",
    "\n",
    "class methodDivisionOperation2:\n",
    "    a=0\n",
    "    b=0\n",
    "    div=''\n",
    "\n",
    "    def __init__(self,val_a,val_b,divVal):\n",
    "        self.a = val_a\n",
    "        self.b = val_b\n",
    "        self.div = divVal\n",
    "\n",
    "    def divValue(self):\n",
    "        return self.a / self.b\n",
    "\n",
    "val_a=int(input(\"enter value for a : \"))\n",
    "val_b=int(input(\"enter value for b : \")) \n",
    "div=methodDivisionOperation2(val_a,val_b,'div')\n",
    "\n",
    "div.divValue()"
   ]
  }
 ],
 "metadata": {
  "kernelspec": {
   "display_name": "Python 3",
   "language": "python",
   "name": "python3"
  },
  "language_info": {
   "codemirror_mode": {
    "name": "ipython",
    "version": 3
   },
   "file_extension": ".py",
   "mimetype": "text/x-python",
   "name": "python",
   "nbconvert_exporter": "python",
   "pygments_lexer": "ipython3",
   "version": "3.9.12"
  }
 },
 "nbformat": 4,
 "nbformat_minor": 5
}
